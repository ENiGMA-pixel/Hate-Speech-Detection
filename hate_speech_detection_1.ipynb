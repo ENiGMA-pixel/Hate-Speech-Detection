{
  "nbformat": 4,
  "nbformat_minor": 0,
  "metadata": {
    "colab": {
      "provenance": [],
      "gpuType": "T4"
    },
    "kernelspec": {
      "name": "python3",
      "display_name": "Python 3"
    },
    "language_info": {
      "name": "python"
    },
    "accelerator": "GPU"
  },
  "cells": [
    {
      "cell_type": "markdown",
      "source": [
        "# Importing necessary libraries"
      ],
      "metadata": {
        "id": "9nkpHFvm2s-h"
      }
    },
    {
      "cell_type": "code",
      "execution_count": null,
      "metadata": {
        "colab": {
          "base_uri": "https://localhost:8080/"
        },
        "id": "Bg8QKwAjJdqb",
        "outputId": "0dbcc7d4-4f0b-4aba-c77d-5df666c609a7"
      },
      "outputs": [
        {
          "output_type": "stream",
          "name": "stderr",
          "text": [
            "[nltk_data] Downloading package punkt to /root/nltk_data...\n",
            "[nltk_data]   Package punkt is already up-to-date!\n",
            "[nltk_data] Downloading package stopwords to /root/nltk_data...\n",
            "[nltk_data]   Package stopwords is already up-to-date!\n",
            "[nltk_data] Downloading package wordnet to /root/nltk_data...\n",
            "[nltk_data]   Package wordnet is already up-to-date!\n"
          ]
        }
      ],
      "source": [
        "# Importing necessary libraries\n",
        "import pandas as pd  # For data manipulation\n",
        "import string  # For string operations\n",
        "import re  # For regular expressions\n",
        "import nltk  # For natural language processing\n",
        "from nltk.tokenize import word_tokenize, sent_tokenize  # Tokenization\n",
        "from nltk.corpus import stopwords  # For removing common words\n",
        "from nltk.stem import PorterStemmer, WordNetLemmatizer  # For stemming and lemmatization\n",
        "nltk.download('punkt')  # Tokenization resource\n",
        "nltk.download('stopwords')  # Common words resource\n",
        "nltk.download('wordnet')  # Lemmatization resource\n",
        "\n",
        "from imblearn.over_sampling import SMOTE  # For dealing with imbalanced datasets\n",
        "from sklearn.feature_extraction.text import CountVectorizer  # For text feature extraction\n"
      ]
    },
    {
      "cell_type": "markdown",
      "source": [
        "# Loading dataset"
      ],
      "metadata": {
        "id": "0PqHt4o23BZl"
      }
    },
    {
      "cell_type": "code",
      "source": [
        "data = pd.read_csv('/content/GrpB Cleaned data .csv')\n",
        "data.head()"
      ],
      "metadata": {
        "colab": {
          "base_uri": "https://localhost:8080/",
          "height": 310
        },
        "id": "UEgCbLU5KK4X",
        "outputId": "92aae10c-9360-4639-f2e9-300ae2cbbc38"
      },
      "execution_count": null,
      "outputs": [
        {
          "output_type": "execute_result",
          "data": {
            "text/plain": [
              "   Count  Hate Speech  Offensive Language  Neither Count  Class  \\\n",
              "0      3            1                   2              0      1   \n",
              "1      4            1                   3              0      1   \n",
              "2      3            0                   3              0      1   \n",
              "3      3            0                   3              0      1   \n",
              "4      3            0                   0              3      2   \n",
              "\n",
              "                                               Tweet  \n",
              "0  Am sorry I can't stand stand some black female...  \n",
              "1  Am zoneing they say I'm possessed it's a omen ...  \n",
              "2  Amanda Bynes is crazy, idc what else y'all wan...  \n",
              "3     Amanda is a bitch omg I would beat her ass lol  \n",
              "4  Amazing. You know what they say about birds of...  "
            ],
            "text/html": [
              "\n",
              "  <div id=\"df-6d5ea94d-458d-4b16-8054-c5bd37936c3f\" class=\"colab-df-container\">\n",
              "    <div>\n",
              "<style scoped>\n",
              "    .dataframe tbody tr th:only-of-type {\n",
              "        vertical-align: middle;\n",
              "    }\n",
              "\n",
              "    .dataframe tbody tr th {\n",
              "        vertical-align: top;\n",
              "    }\n",
              "\n",
              "    .dataframe thead th {\n",
              "        text-align: right;\n",
              "    }\n",
              "</style>\n",
              "<table border=\"1\" class=\"dataframe\">\n",
              "  <thead>\n",
              "    <tr style=\"text-align: right;\">\n",
              "      <th></th>\n",
              "      <th>Count</th>\n",
              "      <th>Hate Speech</th>\n",
              "      <th>Offensive Language</th>\n",
              "      <th>Neither Count</th>\n",
              "      <th>Class</th>\n",
              "      <th>Tweet</th>\n",
              "    </tr>\n",
              "  </thead>\n",
              "  <tbody>\n",
              "    <tr>\n",
              "      <th>0</th>\n",
              "      <td>3</td>\n",
              "      <td>1</td>\n",
              "      <td>2</td>\n",
              "      <td>0</td>\n",
              "      <td>1</td>\n",
              "      <td>Am sorry I can't stand stand some black female...</td>\n",
              "    </tr>\n",
              "    <tr>\n",
              "      <th>1</th>\n",
              "      <td>4</td>\n",
              "      <td>1</td>\n",
              "      <td>3</td>\n",
              "      <td>0</td>\n",
              "      <td>1</td>\n",
              "      <td>Am zoneing they say I'm possessed it's a omen ...</td>\n",
              "    </tr>\n",
              "    <tr>\n",
              "      <th>2</th>\n",
              "      <td>3</td>\n",
              "      <td>0</td>\n",
              "      <td>3</td>\n",
              "      <td>0</td>\n",
              "      <td>1</td>\n",
              "      <td>Amanda Bynes is crazy, idc what else y'all wan...</td>\n",
              "    </tr>\n",
              "    <tr>\n",
              "      <th>3</th>\n",
              "      <td>3</td>\n",
              "      <td>0</td>\n",
              "      <td>3</td>\n",
              "      <td>0</td>\n",
              "      <td>1</td>\n",
              "      <td>Amanda is a bitch omg I would beat her ass lol</td>\n",
              "    </tr>\n",
              "    <tr>\n",
              "      <th>4</th>\n",
              "      <td>3</td>\n",
              "      <td>0</td>\n",
              "      <td>0</td>\n",
              "      <td>3</td>\n",
              "      <td>2</td>\n",
              "      <td>Amazing. You know what they say about birds of...</td>\n",
              "    </tr>\n",
              "  </tbody>\n",
              "</table>\n",
              "</div>\n",
              "    <div class=\"colab-df-buttons\">\n",
              "\n",
              "  <div class=\"colab-df-container\">\n",
              "    <button class=\"colab-df-convert\" onclick=\"convertToInteractive('df-6d5ea94d-458d-4b16-8054-c5bd37936c3f')\"\n",
              "            title=\"Convert this dataframe to an interactive table.\"\n",
              "            style=\"display:none;\">\n",
              "\n",
              "  <svg xmlns=\"http://www.w3.org/2000/svg\" height=\"24px\" viewBox=\"0 -960 960 960\">\n",
              "    <path d=\"M120-120v-720h720v720H120Zm60-500h600v-160H180v160Zm220 220h160v-160H400v160Zm0 220h160v-160H400v160ZM180-400h160v-160H180v160Zm440 0h160v-160H620v160ZM180-180h160v-160H180v160Zm440 0h160v-160H620v160Z\"/>\n",
              "  </svg>\n",
              "    </button>\n",
              "\n",
              "  <style>\n",
              "    .colab-df-container {\n",
              "      display:flex;\n",
              "      gap: 12px;\n",
              "    }\n",
              "\n",
              "    .colab-df-convert {\n",
              "      background-color: #E8F0FE;\n",
              "      border: none;\n",
              "      border-radius: 50%;\n",
              "      cursor: pointer;\n",
              "      display: none;\n",
              "      fill: #1967D2;\n",
              "      height: 32px;\n",
              "      padding: 0 0 0 0;\n",
              "      width: 32px;\n",
              "    }\n",
              "\n",
              "    .colab-df-convert:hover {\n",
              "      background-color: #E2EBFA;\n",
              "      box-shadow: 0px 1px 2px rgba(60, 64, 67, 0.3), 0px 1px 3px 1px rgba(60, 64, 67, 0.15);\n",
              "      fill: #174EA6;\n",
              "    }\n",
              "\n",
              "    .colab-df-buttons div {\n",
              "      margin-bottom: 4px;\n",
              "    }\n",
              "\n",
              "    [theme=dark] .colab-df-convert {\n",
              "      background-color: #3B4455;\n",
              "      fill: #D2E3FC;\n",
              "    }\n",
              "\n",
              "    [theme=dark] .colab-df-convert:hover {\n",
              "      background-color: #434B5C;\n",
              "      box-shadow: 0px 1px 3px 1px rgba(0, 0, 0, 0.15);\n",
              "      filter: drop-shadow(0px 1px 2px rgba(0, 0, 0, 0.3));\n",
              "      fill: #FFFFFF;\n",
              "    }\n",
              "  </style>\n",
              "\n",
              "    <script>\n",
              "      const buttonEl =\n",
              "        document.querySelector('#df-6d5ea94d-458d-4b16-8054-c5bd37936c3f button.colab-df-convert');\n",
              "      buttonEl.style.display =\n",
              "        google.colab.kernel.accessAllowed ? 'block' : 'none';\n",
              "\n",
              "      async function convertToInteractive(key) {\n",
              "        const element = document.querySelector('#df-6d5ea94d-458d-4b16-8054-c5bd37936c3f');\n",
              "        const dataTable =\n",
              "          await google.colab.kernel.invokeFunction('convertToInteractive',\n",
              "                                                    [key], {});\n",
              "        if (!dataTable) return;\n",
              "\n",
              "        const docLinkHtml = 'Like what you see? Visit the ' +\n",
              "          '<a target=\"_blank\" href=https://colab.research.google.com/notebooks/data_table.ipynb>data table notebook</a>'\n",
              "          + ' to learn more about interactive tables.';\n",
              "        element.innerHTML = '';\n",
              "        dataTable['output_type'] = 'display_data';\n",
              "        await google.colab.output.renderOutput(dataTable, element);\n",
              "        const docLink = document.createElement('div');\n",
              "        docLink.innerHTML = docLinkHtml;\n",
              "        element.appendChild(docLink);\n",
              "      }\n",
              "    </script>\n",
              "  </div>\n",
              "\n",
              "\n",
              "<div id=\"df-5f9968ca-4340-4984-8213-64cae36c2056\">\n",
              "  <button class=\"colab-df-quickchart\" onclick=\"quickchart('df-5f9968ca-4340-4984-8213-64cae36c2056')\"\n",
              "            title=\"Suggest charts\"\n",
              "            style=\"display:none;\">\n",
              "\n",
              "<svg xmlns=\"http://www.w3.org/2000/svg\" height=\"24px\"viewBox=\"0 0 24 24\"\n",
              "     width=\"24px\">\n",
              "    <g>\n",
              "        <path d=\"M19 3H5c-1.1 0-2 .9-2 2v14c0 1.1.9 2 2 2h14c1.1 0 2-.9 2-2V5c0-1.1-.9-2-2-2zM9 17H7v-7h2v7zm4 0h-2V7h2v10zm4 0h-2v-4h2v4z\"/>\n",
              "    </g>\n",
              "</svg>\n",
              "  </button>\n",
              "\n",
              "<style>\n",
              "  .colab-df-quickchart {\n",
              "      --bg-color: #E8F0FE;\n",
              "      --fill-color: #1967D2;\n",
              "      --hover-bg-color: #E2EBFA;\n",
              "      --hover-fill-color: #174EA6;\n",
              "      --disabled-fill-color: #AAA;\n",
              "      --disabled-bg-color: #DDD;\n",
              "  }\n",
              "\n",
              "  [theme=dark] .colab-df-quickchart {\n",
              "      --bg-color: #3B4455;\n",
              "      --fill-color: #D2E3FC;\n",
              "      --hover-bg-color: #434B5C;\n",
              "      --hover-fill-color: #FFFFFF;\n",
              "      --disabled-bg-color: #3B4455;\n",
              "      --disabled-fill-color: #666;\n",
              "  }\n",
              "\n",
              "  .colab-df-quickchart {\n",
              "    background-color: var(--bg-color);\n",
              "    border: none;\n",
              "    border-radius: 50%;\n",
              "    cursor: pointer;\n",
              "    display: none;\n",
              "    fill: var(--fill-color);\n",
              "    height: 32px;\n",
              "    padding: 0;\n",
              "    width: 32px;\n",
              "  }\n",
              "\n",
              "  .colab-df-quickchart:hover {\n",
              "    background-color: var(--hover-bg-color);\n",
              "    box-shadow: 0 1px 2px rgba(60, 64, 67, 0.3), 0 1px 3px 1px rgba(60, 64, 67, 0.15);\n",
              "    fill: var(--button-hover-fill-color);\n",
              "  }\n",
              "\n",
              "  .colab-df-quickchart-complete:disabled,\n",
              "  .colab-df-quickchart-complete:disabled:hover {\n",
              "    background-color: var(--disabled-bg-color);\n",
              "    fill: var(--disabled-fill-color);\n",
              "    box-shadow: none;\n",
              "  }\n",
              "\n",
              "  .colab-df-spinner {\n",
              "    border: 2px solid var(--fill-color);\n",
              "    border-color: transparent;\n",
              "    border-bottom-color: var(--fill-color);\n",
              "    animation:\n",
              "      spin 1s steps(1) infinite;\n",
              "  }\n",
              "\n",
              "  @keyframes spin {\n",
              "    0% {\n",
              "      border-color: transparent;\n",
              "      border-bottom-color: var(--fill-color);\n",
              "      border-left-color: var(--fill-color);\n",
              "    }\n",
              "    20% {\n",
              "      border-color: transparent;\n",
              "      border-left-color: var(--fill-color);\n",
              "      border-top-color: var(--fill-color);\n",
              "    }\n",
              "    30% {\n",
              "      border-color: transparent;\n",
              "      border-left-color: var(--fill-color);\n",
              "      border-top-color: var(--fill-color);\n",
              "      border-right-color: var(--fill-color);\n",
              "    }\n",
              "    40% {\n",
              "      border-color: transparent;\n",
              "      border-right-color: var(--fill-color);\n",
              "      border-top-color: var(--fill-color);\n",
              "    }\n",
              "    60% {\n",
              "      border-color: transparent;\n",
              "      border-right-color: var(--fill-color);\n",
              "    }\n",
              "    80% {\n",
              "      border-color: transparent;\n",
              "      border-right-color: var(--fill-color);\n",
              "      border-bottom-color: var(--fill-color);\n",
              "    }\n",
              "    90% {\n",
              "      border-color: transparent;\n",
              "      border-bottom-color: var(--fill-color);\n",
              "    }\n",
              "  }\n",
              "</style>\n",
              "\n",
              "  <script>\n",
              "    async function quickchart(key) {\n",
              "      const quickchartButtonEl =\n",
              "        document.querySelector('#' + key + ' button');\n",
              "      quickchartButtonEl.disabled = true;  // To prevent multiple clicks.\n",
              "      quickchartButtonEl.classList.add('colab-df-spinner');\n",
              "      try {\n",
              "        const charts = await google.colab.kernel.invokeFunction(\n",
              "            'suggestCharts', [key], {});\n",
              "      } catch (error) {\n",
              "        console.error('Error during call to suggestCharts:', error);\n",
              "      }\n",
              "      quickchartButtonEl.classList.remove('colab-df-spinner');\n",
              "      quickchartButtonEl.classList.add('colab-df-quickchart-complete');\n",
              "    }\n",
              "    (() => {\n",
              "      let quickchartButtonEl =\n",
              "        document.querySelector('#df-5f9968ca-4340-4984-8213-64cae36c2056 button');\n",
              "      quickchartButtonEl.style.display =\n",
              "        google.colab.kernel.accessAllowed ? 'block' : 'none';\n",
              "    })();\n",
              "  </script>\n",
              "</div>\n",
              "\n",
              "    </div>\n",
              "  </div>\n"
            ],
            "application/vnd.google.colaboratory.intrinsic+json": {
              "type": "dataframe",
              "variable_name": "data",
              "summary": "{\n  \"name\": \"data\",\n  \"rows\": 17080,\n  \"fields\": [\n    {\n      \"column\": \"Count\",\n      \"properties\": {\n        \"dtype\": \"number\",\n        \"std\": 0,\n        \"min\": 3,\n        \"max\": 9,\n        \"num_unique_values\": 5,\n        \"samples\": [\n          4,\n          7,\n          9\n        ],\n        \"semantic_type\": \"\",\n        \"description\": \"\"\n      }\n    },\n    {\n      \"column\": \"Hate Speech\",\n      \"properties\": {\n        \"dtype\": \"number\",\n        \"std\": 0,\n        \"min\": 0,\n        \"max\": 7,\n        \"num_unique_values\": 8,\n        \"samples\": [\n          0,\n          5,\n          1\n        ],\n        \"semantic_type\": \"\",\n        \"description\": \"\"\n      }\n    },\n    {\n      \"column\": \"Offensive Language\",\n      \"properties\": {\n        \"dtype\": \"number\",\n        \"std\": 1,\n        \"min\": 0,\n        \"max\": 9,\n        \"num_unique_values\": 10,\n        \"samples\": [\n          8,\n          3,\n          5\n        ],\n        \"semantic_type\": \"\",\n        \"description\": \"\"\n      }\n    },\n    {\n      \"column\": \"Neither Count\",\n      \"properties\": {\n        \"dtype\": \"number\",\n        \"std\": 1,\n        \"min\": 0,\n        \"max\": 9,\n        \"num_unique_values\": 10,\n        \"samples\": [\n          8,\n          3,\n          6\n        ],\n        \"semantic_type\": \"\",\n        \"description\": \"\"\n      }\n    },\n    {\n      \"column\": \"Class\",\n      \"properties\": {\n        \"dtype\": \"number\",\n        \"std\": 0,\n        \"min\": 0,\n        \"max\": 2,\n        \"num_unique_values\": 3,\n        \"samples\": [\n          1,\n          2,\n          0\n        ],\n        \"semantic_type\": \"\",\n        \"description\": \"\"\n      }\n    },\n    {\n      \"column\": \"Tweet\",\n      \"properties\": {\n        \"dtype\": \"string\",\n        \"num_unique_values\": 17080,\n        \"samples\": [\n          \"RT @SteveStfler: After I fuck your bitch http://t.co/kqMBzM7h8Y\",\n          \"This is why nothing gets done. Morons like Coburn trying 2 ad a gun amendment 2 a public works bill. Push back on the #teabagger #morningjoe\",\n          \"Being a sober soul just wasnt interesting.. bitch im living #5spmg #GGL http://t.co/W58Q6Hr20j\"\n        ],\n        \"semantic_type\": \"\",\n        \"description\": \"\"\n      }\n    }\n  ]\n}"
            }
          },
          "metadata": {},
          "execution_count": 4
        }
      ]
    },
    {
      "cell_type": "markdown",
      "source": [
        "# Reducing DataFrame to first 6000 rows"
      ],
      "metadata": {
        "id": "DZFkQr_l3JYt"
      }
    },
    {
      "cell_type": "code",
      "source": [
        "df_reduced = data.head(6000)\n",
        "df = df_reduced\n",
        "# Print the shape of the reduced DataFrame\n",
        "print(\"Shape of reduced DataFrame:\", df.shape)"
      ],
      "metadata": {
        "colab": {
          "base_uri": "https://localhost:8080/"
        },
        "id": "fNqWwbT3KmEc",
        "outputId": "e57713b6-9eac-42a5-e616-0ea620760022"
      },
      "execution_count": null,
      "outputs": [
        {
          "output_type": "stream",
          "name": "stdout",
          "text": [
            "Shape of reduced DataFrame: (6000, 6)\n"
          ]
        }
      ]
    },
    {
      "cell_type": "markdown",
      "source": [
        "# Summarizing the dataset"
      ],
      "metadata": {
        "id": "fkMRhJX63aIk"
      }
    },
    {
      "cell_type": "code",
      "source": [
        "# Print DataFrame information\n",
        "print(df.info())\n",
        "\n",
        "# Display summary statistics\n",
        "print(df.describe())\n",
        "\n",
        "# Check for missing values\n",
        "missing_values = df.isnull().sum()\n",
        "print(missing_values)\n"
      ],
      "metadata": {
        "colab": {
          "base_uri": "https://localhost:8080/"
        },
        "id": "LdXsG5rwQLIJ",
        "outputId": "c2b88192-5f2e-456e-9d3b-467e6a447302"
      },
      "execution_count": null,
      "outputs": [
        {
          "output_type": "stream",
          "name": "stdout",
          "text": [
            "<class 'pandas.core.frame.DataFrame'>\n",
            "RangeIndex: 6000 entries, 0 to 5999\n",
            "Data columns (total 6 columns):\n",
            " #   Column              Non-Null Count  Dtype \n",
            "---  ------              --------------  ----- \n",
            " 0   Count               6000 non-null   int64 \n",
            " 1   Hate Speech         6000 non-null   int64 \n",
            " 2   Offensive Language  6000 non-null   int64 \n",
            " 3   Neither Count       6000 non-null   int64 \n",
            " 4   Class               6000 non-null   int64 \n",
            " 5   Tweet               6000 non-null   object\n",
            "dtypes: int64(5), object(1)\n",
            "memory usage: 281.4+ KB\n",
            "None\n",
            "             Count  Hate Speech  Offensive Language  Neither Count  \\\n",
            "count  6000.000000  6000.000000         6000.000000    6000.000000   \n",
            "mean      3.267833     0.269333            2.476167       0.522333   \n",
            "std       0.920999     0.612799            1.380247       1.093023   \n",
            "min       3.000000     0.000000            0.000000       0.000000   \n",
            "25%       3.000000     0.000000            2.000000       0.000000   \n",
            "50%       3.000000     0.000000            3.000000       0.000000   \n",
            "75%       3.000000     0.000000            3.000000       0.000000   \n",
            "max       9.000000     7.000000            9.000000       9.000000   \n",
            "\n",
            "             Class  \n",
            "count  6000.000000  \n",
            "mean      1.108500  \n",
            "std       0.441316  \n",
            "min       0.000000  \n",
            "25%       1.000000  \n",
            "50%       1.000000  \n",
            "75%       1.000000  \n",
            "max       2.000000  \n",
            "Count                 0\n",
            "Hate Speech           0\n",
            "Offensive Language    0\n",
            "Neither Count         0\n",
            "Class                 0\n",
            "Tweet                 0\n",
            "dtype: int64\n"
          ]
        }
      ]
    },
    {
      "cell_type": "markdown",
      "source": [
        "# Data cleaning:\n",
        "\n",
        "\n",
        "*   removing duplicates\n",
        "*   removing punctuation\n",
        "*   Lowercasing\n",
        "*   removing numbers\n",
        "*   removing blank spaces\n",
        "\n",
        "*   Removing stopwords\n",
        "\n",
        "\n"
      ],
      "metadata": {
        "id": "W_y5kzN23hLs"
      }
    },
    {
      "cell_type": "code",
      "source": [
        "# Check for duplicates\n",
        "print(df.duplicated().sum())\n",
        "\n",
        "# Remove duplicates\n",
        "df.drop_duplicates(inplace=True)\n",
        "\n",
        "# Function to remove punctuation from a string\n",
        "def remove_punctuation(text):\n",
        "    return text.translate(str.maketrans('', '', string.punctuation))\n",
        "\n",
        "# Apply the function to all text columns\n",
        "df = df.applymap(lambda x: remove_punctuation(x) if isinstance(x, str) else x)\n",
        "\n",
        "# Convert all string values to lowercase\n",
        "df = df.applymap(lambda x: x.lower() if isinstance(x, str) else x)\n",
        "\n",
        "# Function to remove numbers\n",
        "def remove_numbers(text):\n",
        "    return re.sub(r'\\d+', '', text)\n",
        "\n",
        "# Apply the function\n",
        "df['Tweet'] = df['Tweet'].apply(lambda x: remove_numbers(x) if isinstance(x, str) else x)\n",
        "\n",
        "# Function to remove leading and trailing whitespace\n",
        "def remove_whitespace(text):\n",
        "    return text.strip()\n",
        "\n",
        "# Apply the function\n",
        "df['Tweet'] = df['Tweet'].apply(lambda x: remove_whitespace(x) if isinstance(x, str) else x)\n"
      ],
      "metadata": {
        "colab": {
          "base_uri": "https://localhost:8080/"
        },
        "id": "lfZ_rYWoQO6Y",
        "outputId": "ce5fd6c7-0684-4a65-c5df-eeed690c3e75"
      },
      "execution_count": null,
      "outputs": [
        {
          "output_type": "stream",
          "name": "stdout",
          "text": [
            "0\n"
          ]
        },
        {
          "output_type": "stream",
          "name": "stderr",
          "text": [
            "<ipython-input-7-37724d756cac>:5: SettingWithCopyWarning: \n",
            "A value is trying to be set on a copy of a slice from a DataFrame\n",
            "\n",
            "See the caveats in the documentation: https://pandas.pydata.org/pandas-docs/stable/user_guide/indexing.html#returning-a-view-versus-a-copy\n",
            "  df.drop_duplicates(inplace=True)\n"
          ]
        }
      ]
    },
    {
      "cell_type": "markdown",
      "source": [
        "# Tokenizing & Lemmatizing"
      ],
      "metadata": {
        "id": "EnRsXdpx4a3J"
      }
    },
    {
      "cell_type": "code",
      "source": [
        "lemmatizer = WordNetLemmatizer()\n",
        "\n",
        "# Load NLTK's stopwords\n",
        "stop_words = set(stopwords.words('english'))\n",
        "\n",
        "# Function to preprocess text\n",
        "def preprocess_text(text):\n",
        "    # Remove HTML tags\n",
        "    text = re.sub(r'<[^>]+>', '', text)\n",
        "\n",
        "    # Remove URLs\n",
        "    text = re.sub(r'http[s]?://(?:[a-zA-Z]|[0-9]|[$-_@.&+]|[!*\\\\(\\\\),]|(?:%[0-9a-fA-F][0-9a-fA-F]))+', '', text)\n",
        "\n",
        "    # Tokenize the text\n",
        "    tokens = word_tokenize(text)\n",
        "\n",
        "    # Remove stopwords\n",
        "    tokens = [token for token in tokens if token not in stop_words]\n",
        "\n",
        "    # Lemmatization\n",
        "    lemmatized_tokens = [lemmatizer.lemmatize(token) for token in tokens]\n",
        "\n",
        "    return lemmatized_tokens\n",
        "\n",
        "# Apply preprocessing to the \"tweet\" column\n",
        "df['preprocessed_tweet'] = df['Tweet'].apply(lambda x: preprocess_text(x) if isinstance(x, str) else [])\n"
      ],
      "metadata": {
        "id": "9eclxMC0QnY2"
      },
      "execution_count": null,
      "outputs": []
    },
    {
      "cell_type": "code",
      "source": [
        "# Combine tokens into a single string in 'final_text' column\n",
        "df['final_text'] = df['preprocessed_tweet'].apply(lambda tokens: ' '.join(tokens))"
      ],
      "metadata": {
        "id": "-C8yxNnmVCmh"
      },
      "execution_count": null,
      "outputs": []
    },
    {
      "cell_type": "code",
      "source": [
        "df.head()"
      ],
      "metadata": {
        "id": "WO5Htr6CAvT6",
        "outputId": "dee094f6-3a1f-4064-fc1c-143771099c9f",
        "colab": {
          "base_uri": "https://localhost:8080/",
          "height": 553
        }
      },
      "execution_count": null,
      "outputs": [
        {
          "output_type": "execute_result",
          "data": {
            "text/plain": [
              "   Count  Hate Speech  Offensive Language  Neither Count  Class  \\\n",
              "0      3            1                   2              0      1   \n",
              "1      4            1                   3              0      1   \n",
              "2      3            0                   3              0      1   \n",
              "3      3            0                   3              0      1   \n",
              "4      3            0                   0              3      2   \n",
              "\n",
              "                                               Tweet  \\\n",
              "0  am sorry i cant stand stand some black females...   \n",
              "1  am zoneing they say im possessed its a omen i ...   \n",
              "2  amanda bynes is crazy idc what else yall wanna...   \n",
              "3     amanda is a bitch omg i would beat her ass lol   \n",
              "4  amazing you know what they say about birds of ...   \n",
              "\n",
              "                                  preprocessed_tweet  \\\n",
              "0  [sorry, cant, stand, stand, black, female, esp...   \n",
              "1  [zoneing, say, im, possessed, omen, keep, like...   \n",
              "2  [amanda, bynes, crazy, idc, else, yall, wan, n...   \n",
              "3         [amanda, bitch, omg, would, beat, as, lol]   \n",
              "4  [amazing, know, say, bird, feather, httptcomef...   \n",
              "\n",
              "                                          final_text  \n",
              "0  sorry cant stand stand black female especially...  \n",
              "1  zoneing say im possessed omen keep like roman ...  \n",
              "2  amanda bynes crazy idc else yall wan na call d...  \n",
              "3                 amanda bitch omg would beat as lol  \n",
              "4      amazing know say bird feather httptcomefmpbaw  "
            ],
            "text/html": [
              "\n",
              "  <div id=\"df-6de8c8cc-bb6a-4f9f-be08-19a3c458aefc\" class=\"colab-df-container\">\n",
              "    <div>\n",
              "<style scoped>\n",
              "    .dataframe tbody tr th:only-of-type {\n",
              "        vertical-align: middle;\n",
              "    }\n",
              "\n",
              "    .dataframe tbody tr th {\n",
              "        vertical-align: top;\n",
              "    }\n",
              "\n",
              "    .dataframe thead th {\n",
              "        text-align: right;\n",
              "    }\n",
              "</style>\n",
              "<table border=\"1\" class=\"dataframe\">\n",
              "  <thead>\n",
              "    <tr style=\"text-align: right;\">\n",
              "      <th></th>\n",
              "      <th>Count</th>\n",
              "      <th>Hate Speech</th>\n",
              "      <th>Offensive Language</th>\n",
              "      <th>Neither Count</th>\n",
              "      <th>Class</th>\n",
              "      <th>Tweet</th>\n",
              "      <th>preprocessed_tweet</th>\n",
              "      <th>final_text</th>\n",
              "    </tr>\n",
              "  </thead>\n",
              "  <tbody>\n",
              "    <tr>\n",
              "      <th>0</th>\n",
              "      <td>3</td>\n",
              "      <td>1</td>\n",
              "      <td>2</td>\n",
              "      <td>0</td>\n",
              "      <td>1</td>\n",
              "      <td>am sorry i cant stand stand some black females...</td>\n",
              "      <td>[sorry, cant, stand, stand, black, female, esp...</td>\n",
              "      <td>sorry cant stand stand black female especially...</td>\n",
              "    </tr>\n",
              "    <tr>\n",
              "      <th>1</th>\n",
              "      <td>4</td>\n",
              "      <td>1</td>\n",
              "      <td>3</td>\n",
              "      <td>0</td>\n",
              "      <td>1</td>\n",
              "      <td>am zoneing they say im possessed its a omen i ...</td>\n",
              "      <td>[zoneing, say, im, possessed, omen, keep, like...</td>\n",
              "      <td>zoneing say im possessed omen keep like roman ...</td>\n",
              "    </tr>\n",
              "    <tr>\n",
              "      <th>2</th>\n",
              "      <td>3</td>\n",
              "      <td>0</td>\n",
              "      <td>3</td>\n",
              "      <td>0</td>\n",
              "      <td>1</td>\n",
              "      <td>amanda bynes is crazy idc what else yall wanna...</td>\n",
              "      <td>[amanda, bynes, crazy, idc, else, yall, wan, n...</td>\n",
              "      <td>amanda bynes crazy idc else yall wan na call d...</td>\n",
              "    </tr>\n",
              "    <tr>\n",
              "      <th>3</th>\n",
              "      <td>3</td>\n",
              "      <td>0</td>\n",
              "      <td>3</td>\n",
              "      <td>0</td>\n",
              "      <td>1</td>\n",
              "      <td>amanda is a bitch omg i would beat her ass lol</td>\n",
              "      <td>[amanda, bitch, omg, would, beat, as, lol]</td>\n",
              "      <td>amanda bitch omg would beat as lol</td>\n",
              "    </tr>\n",
              "    <tr>\n",
              "      <th>4</th>\n",
              "      <td>3</td>\n",
              "      <td>0</td>\n",
              "      <td>0</td>\n",
              "      <td>3</td>\n",
              "      <td>2</td>\n",
              "      <td>amazing you know what they say about birds of ...</td>\n",
              "      <td>[amazing, know, say, bird, feather, httptcomef...</td>\n",
              "      <td>amazing know say bird feather httptcomefmpbaw</td>\n",
              "    </tr>\n",
              "  </tbody>\n",
              "</table>\n",
              "</div>\n",
              "    <div class=\"colab-df-buttons\">\n",
              "\n",
              "  <div class=\"colab-df-container\">\n",
              "    <button class=\"colab-df-convert\" onclick=\"convertToInteractive('df-6de8c8cc-bb6a-4f9f-be08-19a3c458aefc')\"\n",
              "            title=\"Convert this dataframe to an interactive table.\"\n",
              "            style=\"display:none;\">\n",
              "\n",
              "  <svg xmlns=\"http://www.w3.org/2000/svg\" height=\"24px\" viewBox=\"0 -960 960 960\">\n",
              "    <path d=\"M120-120v-720h720v720H120Zm60-500h600v-160H180v160Zm220 220h160v-160H400v160Zm0 220h160v-160H400v160ZM180-400h160v-160H180v160Zm440 0h160v-160H620v160ZM180-180h160v-160H180v160Zm440 0h160v-160H620v160Z\"/>\n",
              "  </svg>\n",
              "    </button>\n",
              "\n",
              "  <style>\n",
              "    .colab-df-container {\n",
              "      display:flex;\n",
              "      gap: 12px;\n",
              "    }\n",
              "\n",
              "    .colab-df-convert {\n",
              "      background-color: #E8F0FE;\n",
              "      border: none;\n",
              "      border-radius: 50%;\n",
              "      cursor: pointer;\n",
              "      display: none;\n",
              "      fill: #1967D2;\n",
              "      height: 32px;\n",
              "      padding: 0 0 0 0;\n",
              "      width: 32px;\n",
              "    }\n",
              "\n",
              "    .colab-df-convert:hover {\n",
              "      background-color: #E2EBFA;\n",
              "      box-shadow: 0px 1px 2px rgba(60, 64, 67, 0.3), 0px 1px 3px 1px rgba(60, 64, 67, 0.15);\n",
              "      fill: #174EA6;\n",
              "    }\n",
              "\n",
              "    .colab-df-buttons div {\n",
              "      margin-bottom: 4px;\n",
              "    }\n",
              "\n",
              "    [theme=dark] .colab-df-convert {\n",
              "      background-color: #3B4455;\n",
              "      fill: #D2E3FC;\n",
              "    }\n",
              "\n",
              "    [theme=dark] .colab-df-convert:hover {\n",
              "      background-color: #434B5C;\n",
              "      box-shadow: 0px 1px 3px 1px rgba(0, 0, 0, 0.15);\n",
              "      filter: drop-shadow(0px 1px 2px rgba(0, 0, 0, 0.3));\n",
              "      fill: #FFFFFF;\n",
              "    }\n",
              "  </style>\n",
              "\n",
              "    <script>\n",
              "      const buttonEl =\n",
              "        document.querySelector('#df-6de8c8cc-bb6a-4f9f-be08-19a3c458aefc button.colab-df-convert');\n",
              "      buttonEl.style.display =\n",
              "        google.colab.kernel.accessAllowed ? 'block' : 'none';\n",
              "\n",
              "      async function convertToInteractive(key) {\n",
              "        const element = document.querySelector('#df-6de8c8cc-bb6a-4f9f-be08-19a3c458aefc');\n",
              "        const dataTable =\n",
              "          await google.colab.kernel.invokeFunction('convertToInteractive',\n",
              "                                                    [key], {});\n",
              "        if (!dataTable) return;\n",
              "\n",
              "        const docLinkHtml = 'Like what you see? Visit the ' +\n",
              "          '<a target=\"_blank\" href=https://colab.research.google.com/notebooks/data_table.ipynb>data table notebook</a>'\n",
              "          + ' to learn more about interactive tables.';\n",
              "        element.innerHTML = '';\n",
              "        dataTable['output_type'] = 'display_data';\n",
              "        await google.colab.output.renderOutput(dataTable, element);\n",
              "        const docLink = document.createElement('div');\n",
              "        docLink.innerHTML = docLinkHtml;\n",
              "        element.appendChild(docLink);\n",
              "      }\n",
              "    </script>\n",
              "  </div>\n",
              "\n",
              "\n",
              "<div id=\"df-b4a79c78-6e01-4e75-9fab-5ab1dfe6c148\">\n",
              "  <button class=\"colab-df-quickchart\" onclick=\"quickchart('df-b4a79c78-6e01-4e75-9fab-5ab1dfe6c148')\"\n",
              "            title=\"Suggest charts\"\n",
              "            style=\"display:none;\">\n",
              "\n",
              "<svg xmlns=\"http://www.w3.org/2000/svg\" height=\"24px\"viewBox=\"0 0 24 24\"\n",
              "     width=\"24px\">\n",
              "    <g>\n",
              "        <path d=\"M19 3H5c-1.1 0-2 .9-2 2v14c0 1.1.9 2 2 2h14c1.1 0 2-.9 2-2V5c0-1.1-.9-2-2-2zM9 17H7v-7h2v7zm4 0h-2V7h2v10zm4 0h-2v-4h2v4z\"/>\n",
              "    </g>\n",
              "</svg>\n",
              "  </button>\n",
              "\n",
              "<style>\n",
              "  .colab-df-quickchart {\n",
              "      --bg-color: #E8F0FE;\n",
              "      --fill-color: #1967D2;\n",
              "      --hover-bg-color: #E2EBFA;\n",
              "      --hover-fill-color: #174EA6;\n",
              "      --disabled-fill-color: #AAA;\n",
              "      --disabled-bg-color: #DDD;\n",
              "  }\n",
              "\n",
              "  [theme=dark] .colab-df-quickchart {\n",
              "      --bg-color: #3B4455;\n",
              "      --fill-color: #D2E3FC;\n",
              "      --hover-bg-color: #434B5C;\n",
              "      --hover-fill-color: #FFFFFF;\n",
              "      --disabled-bg-color: #3B4455;\n",
              "      --disabled-fill-color: #666;\n",
              "  }\n",
              "\n",
              "  .colab-df-quickchart {\n",
              "    background-color: var(--bg-color);\n",
              "    border: none;\n",
              "    border-radius: 50%;\n",
              "    cursor: pointer;\n",
              "    display: none;\n",
              "    fill: var(--fill-color);\n",
              "    height: 32px;\n",
              "    padding: 0;\n",
              "    width: 32px;\n",
              "  }\n",
              "\n",
              "  .colab-df-quickchart:hover {\n",
              "    background-color: var(--hover-bg-color);\n",
              "    box-shadow: 0 1px 2px rgba(60, 64, 67, 0.3), 0 1px 3px 1px rgba(60, 64, 67, 0.15);\n",
              "    fill: var(--button-hover-fill-color);\n",
              "  }\n",
              "\n",
              "  .colab-df-quickchart-complete:disabled,\n",
              "  .colab-df-quickchart-complete:disabled:hover {\n",
              "    background-color: var(--disabled-bg-color);\n",
              "    fill: var(--disabled-fill-color);\n",
              "    box-shadow: none;\n",
              "  }\n",
              "\n",
              "  .colab-df-spinner {\n",
              "    border: 2px solid var(--fill-color);\n",
              "    border-color: transparent;\n",
              "    border-bottom-color: var(--fill-color);\n",
              "    animation:\n",
              "      spin 1s steps(1) infinite;\n",
              "  }\n",
              "\n",
              "  @keyframes spin {\n",
              "    0% {\n",
              "      border-color: transparent;\n",
              "      border-bottom-color: var(--fill-color);\n",
              "      border-left-color: var(--fill-color);\n",
              "    }\n",
              "    20% {\n",
              "      border-color: transparent;\n",
              "      border-left-color: var(--fill-color);\n",
              "      border-top-color: var(--fill-color);\n",
              "    }\n",
              "    30% {\n",
              "      border-color: transparent;\n",
              "      border-left-color: var(--fill-color);\n",
              "      border-top-color: var(--fill-color);\n",
              "      border-right-color: var(--fill-color);\n",
              "    }\n",
              "    40% {\n",
              "      border-color: transparent;\n",
              "      border-right-color: var(--fill-color);\n",
              "      border-top-color: var(--fill-color);\n",
              "    }\n",
              "    60% {\n",
              "      border-color: transparent;\n",
              "      border-right-color: var(--fill-color);\n",
              "    }\n",
              "    80% {\n",
              "      border-color: transparent;\n",
              "      border-right-color: var(--fill-color);\n",
              "      border-bottom-color: var(--fill-color);\n",
              "    }\n",
              "    90% {\n",
              "      border-color: transparent;\n",
              "      border-bottom-color: var(--fill-color);\n",
              "    }\n",
              "  }\n",
              "</style>\n",
              "\n",
              "  <script>\n",
              "    async function quickchart(key) {\n",
              "      const quickchartButtonEl =\n",
              "        document.querySelector('#' + key + ' button');\n",
              "      quickchartButtonEl.disabled = true;  // To prevent multiple clicks.\n",
              "      quickchartButtonEl.classList.add('colab-df-spinner');\n",
              "      try {\n",
              "        const charts = await google.colab.kernel.invokeFunction(\n",
              "            'suggestCharts', [key], {});\n",
              "      } catch (error) {\n",
              "        console.error('Error during call to suggestCharts:', error);\n",
              "      }\n",
              "      quickchartButtonEl.classList.remove('colab-df-spinner');\n",
              "      quickchartButtonEl.classList.add('colab-df-quickchart-complete');\n",
              "    }\n",
              "    (() => {\n",
              "      let quickchartButtonEl =\n",
              "        document.querySelector('#df-b4a79c78-6e01-4e75-9fab-5ab1dfe6c148 button');\n",
              "      quickchartButtonEl.style.display =\n",
              "        google.colab.kernel.accessAllowed ? 'block' : 'none';\n",
              "    })();\n",
              "  </script>\n",
              "</div>\n",
              "\n",
              "    </div>\n",
              "  </div>\n"
            ],
            "application/vnd.google.colaboratory.intrinsic+json": {
              "type": "dataframe",
              "variable_name": "df",
              "summary": "{\n  \"name\": \"df\",\n  \"rows\": 6000,\n  \"fields\": [\n    {\n      \"column\": \"Count\",\n      \"properties\": {\n        \"dtype\": \"number\",\n        \"std\": 0,\n        \"min\": 3,\n        \"max\": 9,\n        \"num_unique_values\": 5,\n        \"samples\": [\n          4,\n          7,\n          9\n        ],\n        \"semantic_type\": \"\",\n        \"description\": \"\"\n      }\n    },\n    {\n      \"column\": \"Hate Speech\",\n      \"properties\": {\n        \"dtype\": \"number\",\n        \"std\": 0,\n        \"min\": 0,\n        \"max\": 7,\n        \"num_unique_values\": 7,\n        \"samples\": [\n          1,\n          0,\n          5\n        ],\n        \"semantic_type\": \"\",\n        \"description\": \"\"\n      }\n    },\n    {\n      \"column\": \"Offensive Language\",\n      \"properties\": {\n        \"dtype\": \"number\",\n        \"std\": 1,\n        \"min\": 0,\n        \"max\": 9,\n        \"num_unique_values\": 10,\n        \"samples\": [\n          8,\n          3,\n          5\n        ],\n        \"semantic_type\": \"\",\n        \"description\": \"\"\n      }\n    },\n    {\n      \"column\": \"Neither Count\",\n      \"properties\": {\n        \"dtype\": \"number\",\n        \"std\": 1,\n        \"min\": 0,\n        \"max\": 9,\n        \"num_unique_values\": 9,\n        \"samples\": [\n          9,\n          3,\n          6\n        ],\n        \"semantic_type\": \"\",\n        \"description\": \"\"\n      }\n    },\n    {\n      \"column\": \"Class\",\n      \"properties\": {\n        \"dtype\": \"number\",\n        \"std\": 0,\n        \"min\": 0,\n        \"max\": 2,\n        \"num_unique_values\": 3,\n        \"samples\": [\n          1,\n          2,\n          0\n        ],\n        \"semantic_type\": \"\",\n        \"description\": \"\"\n      }\n    },\n    {\n      \"column\": \"Tweet\",\n      \"properties\": {\n        \"dtype\": \"string\",\n        \"num_unique_values\": 5976,\n        \"samples\": [\n          \"only ounces and up niggah\",\n          \"jeter almost broke yankee stadium\",\n          \"i find it funny asf how people will try and tell you how you should live your life like bitch stay in my shadows thank you lol\"\n        ],\n        \"semantic_type\": \"\",\n        \"description\": \"\"\n      }\n    },\n    {\n      \"column\": \"preprocessed_tweet\",\n      \"properties\": {\n        \"dtype\": \"object\",\n        \"semantic_type\": \"\",\n        \"description\": \"\"\n      }\n    },\n    {\n      \"column\": \"final_text\",\n      \"properties\": {\n        \"dtype\": \"string\",\n        \"num_unique_values\": 5947,\n        \"samples\": [\n          \"aint stressin hoe know dat\",\n          \"im surprised im still school tbh quite retard time im either exceptional subject absolute shiteee\",\n          \"flaming faggot publicly state want everything handed like fuck dude get bottom as something\"\n        ],\n        \"semantic_type\": \"\",\n        \"description\": \"\"\n      }\n    }\n  ]\n}"
            }
          },
          "metadata": {},
          "execution_count": 10
        }
      ]
    },
    {
      "cell_type": "markdown",
      "source": [
        "\n",
        "\n",
        "*   Feature Selection\n",
        "\n"
      ],
      "metadata": {
        "id": "MJnYNsSp8z3J"
      }
    },
    {
      "cell_type": "code",
      "source": [
        "df.to_csv('preprocessed.csv', index=False)"
      ],
      "metadata": {
        "id": "z9KNaEeZEbTx"
      },
      "execution_count": null,
      "outputs": []
    },
    {
      "cell_type": "code",
      "source": [
        "class_counts = df['Class'].value_counts()\n",
        "\n",
        "# Print the total count of data in the column 'Class'\n",
        "print(class_counts)"
      ],
      "metadata": {
        "colab": {
          "base_uri": "https://localhost:8080/"
        },
        "id": "fEC-ph7MR95S",
        "outputId": "a61ae827-2846-430e-8d58-99e1d692bd49"
      },
      "execution_count": null,
      "outputs": [
        {
          "output_type": "stream",
          "name": "stdout",
          "text": [
            "Class\n",
            "1    4761\n",
            "2     945\n",
            "0     294\n",
            "Name: count, dtype: int64\n"
          ]
        }
      ]
    },
    {
      "cell_type": "markdown",
      "source": [
        "\n",
        "\n",
        "* The data is highly skewed\n",
        "\n"
      ],
      "metadata": {
        "id": "ada6ltH75eLR"
      }
    },
    {
      "cell_type": "markdown",
      "source": [
        "# Vectorization"
      ],
      "metadata": {
        "id": "W8ZdCccU5n1V"
      }
    },
    {
      "cell_type": "code",
      "source": [
        "from sklearn.feature_extraction.text import TfidfVectorizer\n",
        "\n",
        "# Initialize TF-IDF vectorizer\n",
        "vectorizer = TfidfVectorizer()\n",
        "\n",
        "# Vectorize the text data\n",
        "X_vectorized = vectorizer.fit_transform(df['final_text'])\n",
        "\n",
        "# Check the shape of the vectorized data\n",
        "print(\"Shape of vectorized data:\", X_vectorized.shape)\n"
      ],
      "metadata": {
        "colab": {
          "base_uri": "https://localhost:8080/"
        },
        "id": "VEr6jAfbaBKR",
        "outputId": "8029363d-0d3d-4745-d247-5428a1a04642"
      },
      "execution_count": null,
      "outputs": [
        {
          "output_type": "stream",
          "name": "stdout",
          "text": [
            "Shape of vectorized data: (6000, 9707)\n"
          ]
        }
      ]
    },
    {
      "cell_type": "code",
      "source": [
        "# Convert the vectorized data into a DataFrame\n",
        "df_vectorized = pd.DataFrame(X_vectorized.toarray(), columns=vectorizer.get_feature_names_out())\n",
        "\n",
        "# Display the vectorized data\n",
        "print(\"Vectorized Data:\")\n",
        "print(df_vectorized)\n"
      ],
      "metadata": {
        "colab": {
          "base_uri": "https://localhost:8080/"
        },
        "id": "fpHZiWW-aqT7",
        "outputId": "42abc203-240b-46cf-b5fa-32c88ffa49a5"
      },
      "execution_count": null,
      "outputs": [
        {
          "output_type": "stream",
          "name": "stdout",
          "text": [
            "Vectorized Data:\n",
            "       aa  aaliyah  aan  aap  aaronmacgruder  aaronworthing  abdelka  \\\n",
            "0     0.0      0.0  0.0  0.0        0.000000            0.0      0.0   \n",
            "1     0.0      0.0  0.0  0.0        0.000000            0.0      0.0   \n",
            "2     0.0      0.0  0.0  0.0        0.000000            0.0      0.0   \n",
            "3     0.0      0.0  0.0  0.0        0.000000            0.0      0.0   \n",
            "4     0.0      0.0  0.0  0.0        0.000000            0.0      0.0   \n",
            "...   ...      ...  ...  ...             ...            ...      ...   \n",
            "5995  0.0      0.0  0.0  0.0        0.000000            0.0      0.0   \n",
            "5996  0.0      0.0  0.0  0.0        0.353626            0.0      0.0   \n",
            "5997  0.0      0.0  0.0  0.0        0.000000            0.0      0.0   \n",
            "5998  0.0      0.0  0.0  0.0        0.000000            0.0      0.0   \n",
            "5999  0.0      0.0  0.0  0.0        0.000000            0.0      0.0   \n",
            "\n",
            "      abduction  abdurahman  ability  ...  zijn  zima  zimmerman  zip  zone  \\\n",
            "0           0.0         0.0      0.0  ...   0.0   0.0        0.0  0.0   0.0   \n",
            "1           0.0         0.0      0.0  ...   0.0   0.0        0.0  0.0   0.0   \n",
            "2           0.0         0.0      0.0  ...   0.0   0.0        0.0  0.0   0.0   \n",
            "3           0.0         0.0      0.0  ...   0.0   0.0        0.0  0.0   0.0   \n",
            "4           0.0         0.0      0.0  ...   0.0   0.0        0.0  0.0   0.0   \n",
            "...         ...         ...      ...  ...   ...   ...        ...  ...   ...   \n",
            "5995        0.0         0.0      0.0  ...   0.0   0.0        0.0  0.0   0.0   \n",
            "5996        0.0         0.0      0.0  ...   0.0   0.0        0.0  0.0   0.0   \n",
            "5997        0.0         0.0      0.0  ...   0.0   0.0        0.0  0.0   0.0   \n",
            "5998        0.0         0.0      0.0  ...   0.0   0.0        0.0  0.0   0.0   \n",
            "5999        0.0         0.0      0.0  ...   0.0   0.0        0.0  0.0   0.0   \n",
            "\n",
            "       zoneing  zonenn  zoning  zoomed  zrawtaroli  \n",
            "0     0.000000     0.0     0.0     0.0         0.0  \n",
            "1     0.358671     0.0     0.0     0.0         0.0  \n",
            "2     0.000000     0.0     0.0     0.0         0.0  \n",
            "3     0.000000     0.0     0.0     0.0         0.0  \n",
            "4     0.000000     0.0     0.0     0.0         0.0  \n",
            "...        ...     ...     ...     ...         ...  \n",
            "5995  0.000000     0.0     0.0     0.0         0.0  \n",
            "5996  0.000000     0.0     0.0     0.0         0.0  \n",
            "5997  0.000000     0.0     0.0     0.0         0.0  \n",
            "5998  0.000000     0.0     0.0     0.0         0.0  \n",
            "5999  0.000000     0.0     0.0     0.0         0.0  \n",
            "\n",
            "[6000 rows x 9707 columns]\n"
          ]
        }
      ]
    },
    {
      "cell_type": "markdown",
      "source": [
        "# Balancing the dataset"
      ],
      "metadata": {
        "id": "dnyWipGN5xuF"
      }
    },
    {
      "cell_type": "code",
      "source": [
        "# Target variable\n",
        "y = df['Class']\n",
        "\n",
        "# Apply SMOTE to balance the dataset\n",
        "smote = SMOTE(random_state=42)\n",
        "X_resampled, y_resampled = smote.fit_resample(X_vectorized, y)\n",
        "\n",
        "# Combine resampled features and target variable into a DataFrame\n",
        "df_resampled = pd.DataFrame(X_resampled.toarray(), columns=vectorizer.get_feature_names_out())\n",
        "df_resampled['Class'] = y_resampled\n",
        "\n",
        "# Check the class distribution after balancing\n",
        "print(\"Class distribution after balancing:\")\n",
        "print(df_resampled['Class'].value_counts())"
      ],
      "metadata": {
        "colab": {
          "base_uri": "https://localhost:8080/"
        },
        "id": "4ng5ybvza73C",
        "outputId": "646ef0e6-fad2-4496-d4ce-0d44d6435fdc"
      },
      "execution_count": null,
      "outputs": [
        {
          "output_type": "stream",
          "name": "stdout",
          "text": [
            "Class distribution after balancing:\n",
            "Class\n",
            "1    4761\n",
            "2    4761\n",
            "0    4761\n",
            "Name: count, dtype: int64\n"
          ]
        }
      ]
    },
    {
      "cell_type": "markdown",
      "source": [
        "# visualization"
      ],
      "metadata": {
        "id": "thROXcl_6IOP"
      }
    },
    {
      "cell_type": "code",
      "source": [
        "import matplotlib.pyplot as plt\n",
        "import seaborn as sns\n",
        "\n",
        "# Before Balancing\n",
        "plt.figure(figsize=(10, 5))\n",
        "sns.countplot(x='Class', data=df)\n",
        "plt.title('Before Balancing')\n",
        "plt.show()\n",
        "\n",
        "# After Balancing\n",
        "plt.figure(figsize=(10, 5))\n",
        "sns.countplot(x=y_resampled)\n",
        "plt.title('After Balancing')\n",
        "plt.show()\n"
      ],
      "metadata": {
        "colab": {
          "base_uri": "https://localhost:8080/",
          "height": 932
        },
        "id": "CrFiWIDI0H2J",
        "outputId": "19f5ec73-670b-47d7-a379-05956dffdfc6"
      },
      "execution_count": null,
      "outputs": [
        {
          "output_type": "display_data",
          "data": {
            "text/plain": [
              "<Figure size 1000x500 with 1 Axes>"
            ],
            "image/png": "[encoded data removed]"
          },
          "metadata": {}
        },
        {
          "output_type": "display_data",
          "data": {
            "text/plain": [
              "<Figure size 1000x500 with 1 Axes>"
            ],
            "image/png": "[encoded data removed]"
          },
          "metadata": {}
        }
      ]
    },
    {
      "cell_type": "markdown",
      "source": [
        "# Data splitting"
      ],
      "metadata": {
        "id": "4TkOwuoI7Hfh"
      }
    },
    {
      "cell_type": "code",
      "source": [
        "from sklearn.model_selection import train_test_split\n",
        "\n",
        "# Split the data into training and testing sets\n",
        "X_train, X_test, y_train, y_test = train_test_split(df_resampled.drop('Class', axis=1), df_resampled['Class'], test_size=0.2, random_state=42)\n",
        "\n",
        "print(\"Training set size:\", X_train.shape[0])\n",
        "print(\"Testing set size:\", X_test.shape[0])\n"
      ],
      "metadata": {
        "colab": {
          "base_uri": "https://localhost:8080/"
        },
        "id": "FhqMHCOZybuV",
        "outputId": "6197d3eb-ef67-486e-f5f1-5c1c2ad25f8f"
      },
      "execution_count": null,
      "outputs": [
        {
          "output_type": "stream",
          "name": "stdout",
          "text": [
            "Training set size: 11426\n",
            "Testing set size: 2857\n"
          ]
        }
      ]
    },
    {
      "cell_type": "markdown",
      "source": [
        "#  Model Development and Model Evaluation"
      ],
      "metadata": {
        "id": "tRqu5r7l8NCT"
      }
    },
    {
      "cell_type": "markdown",
      "source": [
        "## Logistic Regression"
      ],
      "metadata": {
        "id": "nAkRngHm62dI"
      }
    },
    {
      "cell_type": "code",
      "source": [
        "# Initialize Logistic Regression model with increased max_iter\n",
        "logistic_model = LogisticRegression(max_iter=1000)\n",
        "\n",
        "# Train the model\n",
        "logistic_model.fit(X_train, y_train)\n",
        "\n",
        "# Make predictions on the test set\n",
        "y_pred_logistic = logistic_model.predict(X_test)\n",
        "\n",
        "# Evaluate the model\n",
        "accuracy_logistic = accuracy_score(y_test, y_pred_logistic)\n",
        "print(\"Logistic Regression Accuracy:\", accuracy_logistic)\n",
        "print(\"Confusion Matrix:\\n\", confusion_matrix(y_test, y_pred_logistic))\n",
        "print(\"Classification Report:\\n\", classification_report(y_test, y_pred_logistic))\n"
      ],
      "metadata": {
        "id": "N44rQNXL0EGk",
        "colab": {
          "base_uri": "https://localhost:8080/"
        },
        "outputId": "c36e7c26-e401-41d9-8fe1-8ad15acdd970"
      },
      "execution_count": null,
      "outputs": [
        {
          "output_type": "stream",
          "name": "stdout",
          "text": [
            "Logistic Regression Accuracy: 0.952397619880994\n",
            "Confusion Matrix:\n",
            " [[918   3   0]\n",
            " [ 66 850  56]\n",
            " [  0  11 953]]\n",
            "Classification Report:\n",
            "               precision    recall  f1-score   support\n",
            "\n",
            "           0       0.93      1.00      0.96       921\n",
            "           1       0.98      0.87      0.93       972\n",
            "           2       0.94      0.99      0.97       964\n",
            "\n",
            "    accuracy                           0.95      2857\n",
            "   macro avg       0.95      0.95      0.95      2857\n",
            "weighted avg       0.95      0.95      0.95      2857\n",
            "\n"
          ]
        }
      ]
    },
    {
      "cell_type": "markdown",
      "source": [
        "\n",
        "###### *The Logistic Regression model achieved an accuracy of 95.2%, with high precision, recall, and f1-scores across all classes, demonstrating strong performance in predicting hate speech, offensive language, and neither.*\n",
        "\n",
        "\n"
      ],
      "metadata": {
        "id": "2o3JCDHd83AD"
      }
    },
    {
      "cell_type": "markdown",
      "source": [
        "## Support Vector Machine (SVM)"
      ],
      "metadata": {
        "id": "E4XGg4gn7pcc"
      }
    },
    {
      "cell_type": "code",
      "source": [
        "from sklearn.svm import SVC\n",
        "\n",
        "# Initialize SVM model\n",
        "svm_model = SVC()\n",
        "\n",
        "# Train the model\n",
        "svm_model.fit(X_train, y_train)\n",
        "\n",
        "# Make predictions on the test set\n",
        "y_pred_svm = svm_model.predict(X_test)\n",
        "\n",
        "# Evaluate the model\n",
        "accuracy_svm = accuracy_score(y_test, y_pred_svm)\n",
        "print(\"SVM Accuracy:\", accuracy_svm)\n",
        "print(\"Confusion Matrix:\\n\", confusion_matrix(y_test, y_pred_svm))\n",
        "print(\"Classification Report:\\n\", classification_report(y_test, y_pred_svm))\n"
      ],
      "metadata": {
        "colab": {
          "base_uri": "https://localhost:8080/"
        },
        "id": "XNz3_KsT6XqZ",
        "outputId": "8b0a1602-d966-4dc9-ef7c-9cdfaf3c7d86"
      },
      "execution_count": null,
      "outputs": [
        {
          "output_type": "stream",
          "name": "stdout",
          "text": [
            "SVM Accuracy: 0.9870493524676234\n",
            "Confusion Matrix:\n",
            " [[921   0   0]\n",
            " [  2 949  21]\n",
            " [  0  14 950]]\n",
            "Classification Report:\n",
            "               precision    recall  f1-score   support\n",
            "\n",
            "           0       1.00      1.00      1.00       921\n",
            "           1       0.99      0.98      0.98       972\n",
            "           2       0.98      0.99      0.98       964\n",
            "\n",
            "    accuracy                           0.99      2857\n",
            "   macro avg       0.99      0.99      0.99      2857\n",
            "weighted avg       0.99      0.99      0.99      2857\n",
            "\n"
          ]
        }
      ]
    },
    {
      "cell_type": "markdown",
      "source": [
        "###### *The SVM model achieved an accuracy of 98.7%, with near-perfect precision, recall, and f1-scores across all classes*"
      ],
      "metadata": {
        "id": "eibd2NXG-9aB"
      }
    },
    {
      "cell_type": "markdown",
      "source": [
        "## Random Forest"
      ],
      "metadata": {
        "id": "MYAyv25y7t_n"
      }
    },
    {
      "cell_type": "code",
      "source": [
        "from sklearn.ensemble import RandomForestClassifier\n",
        "\n",
        "# Initialize Random Forest model\n",
        "rf_model = RandomForestClassifier()\n",
        "\n",
        "# Train the model\n",
        "rf_model.fit(X_train, y_train)\n",
        "\n",
        "# Make predictions on the test set\n",
        "y_pred_rf = rf_model.predict(X_test)\n",
        "\n",
        "# Evaluate the model\n",
        "accuracy_rf = accuracy_score(y_test, y_pred_rf)\n",
        "print(\"Random Forest Accuracy:\", accuracy_rf)\n",
        "print(\"Confusion Matrix:\\n\", confusion_matrix(y_test, y_pred_rf))\n",
        "print(\"Classification Report:\\n\", classification_report(y_test, y_pred_rf))"
      ],
      "metadata": {
        "colab": {
          "base_uri": "https://localhost:8080/"
        },
        "id": "Sv_FU_FC7n-F",
        "outputId": "baa92b65-09a6-4b25-e983-df6e52adb484"
      },
      "execution_count": null,
      "outputs": [
        {
          "output_type": "stream",
          "name": "stdout",
          "text": [
            "Random Forest Accuracy: 0.9772488624431221\n",
            "Confusion Matrix:\n",
            " [[913   8   0]\n",
            " [  7 920  45]\n",
            " [  0   5 959]]\n",
            "Classification Report:\n",
            "               precision    recall  f1-score   support\n",
            "\n",
            "           0       0.99      0.99      0.99       921\n",
            "           1       0.99      0.95      0.97       972\n",
            "           2       0.96      0.99      0.97       964\n",
            "\n",
            "    accuracy                           0.98      2857\n",
            "   macro avg       0.98      0.98      0.98      2857\n",
            "weighted avg       0.98      0.98      0.98      2857\n",
            "\n"
          ]
        }
      ]
    },
    {
      "cell_type": "markdown",
      "source": [
        "###### *The Random Forest model achieved an accuracy of 97.7%, with exceptionally high precision, recall, and f1-scores across all classes, indicating robust performance in classifying hate speech, offensive language, and neither.*"
      ],
      "metadata": {
        "id": "J9r46_yU_UXX"
      }
    },
    {
      "cell_type": "markdown",
      "source": [
        "# Saving the model"
      ],
      "metadata": {
        "id": "Y54XYNWGCw_F"
      }
    },
    {
      "cell_type": "code",
      "source": [
        "import joblib\n",
        "\n",
        "# Save Logistic Regression model\n",
        "joblib.dump(logistic_model, 'logistic_model.pkl')\n",
        "\n",
        "# Save SVM model\n",
        "joblib.dump(svm_model, 'svm_model.pkl')\n",
        "\n",
        "# Save Random Forest model\n",
        "joblib.dump(rf_model, 'rf_model.pkl')\n",
        "\n",
        "print(\"Models have been saved successfully.\")\n"
      ],
      "metadata": {
        "colab": {
          "base_uri": "https://localhost:8080/"
        },
        "id": "DilqIlVU_ZKq",
        "outputId": "e2716b82-9c14-443d-c29d-839fcd09914b"
      },
      "execution_count": null,
      "outputs": [
        {
          "output_type": "stream",
          "name": "stdout",
          "text": [
            "Models have been saved successfully.\n"
          ]
        }
      ]
    },
    {
      "cell_type": "code",
      "source": [],
      "metadata": {
        "id": "ZhtuUvYgCtqp"
      },
      "execution_count": null,
      "outputs": []
    }
  ]
}